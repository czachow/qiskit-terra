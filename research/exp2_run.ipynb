{
 "metadata": {
  "language_info": {
   "codemirror_mode": {
    "name": "ipython",
    "version": 3
   },
   "file_extension": ".py",
   "mimetype": "text/x-python",
   "name": "python",
   "nbconvert_exporter": "python",
   "pygments_lexer": "ipython3",
   "version": "3.8.8-final"
  },
  "orig_nbformat": 2,
  "kernelspec": {
   "name": "python3",
   "display_name": "Python 3",
   "language": "python"
  }
 },
 "nbformat": 4,
 "nbformat_minor": 2,
 "cells": [
  {
   "source": [
    "# Runner for Experiment 2"
   ],
   "cell_type": "markdown",
   "metadata": {}
  },
  {
   "source": [
    "## Experiment"
   ],
   "cell_type": "markdown",
   "metadata": {}
  },
  {
   "cell_type": "code",
   "execution_count": 1,
   "metadata": {},
   "outputs": [],
   "source": [
    "from qiskit import assemble\n",
    "from qiskit.transpiler import CouplingMap\n",
    "from qiskit.transpiler.passes import CSPLayout, CspRbsLayout, DenseLayout, \\\n",
    "                                     NoiseAdaptiveLayout, SabreLayout\n",
    "from qiskit.transpiler.passes.layout import LCSLayout, MCMCLayout\n",
    "from qiskit.providers.aer import QasmSimulator\n",
    "from qiskit.providers.aer.noise import NoiseModel\n",
    "\n",
    "from exp.custom_passmanager import custom_pass_manager"
   ]
  },
  {
   "cell_type": "code",
   "execution_count": 2,
   "metadata": {},
   "outputs": [],
   "source": [
    "def exp2_evaluate(circuit, layout_method, backend, ideal=True, shots=8192, seed=None):\n",
    "    \n",
    "    coupling_map = CouplingMap(backend.configuration().coupling_map)\n",
    "    backend_properties = backend.properties()\n",
    "\n",
    "    if layout_method == 'csprbslayout':\n",
    "        layout = CspRbsLayout(coupling_map, seed=seed, call_limit=None, time_limit=None, \\\n",
    "                              solution_limit=10, backend_prop=backend_properties)\n",
    "    elif layout_method == 'mcmclayout':\n",
    "        layout = MCMCLayout(coupling_map, seed=seed)\n",
    "    elif layout_method == 'dense':\n",
    "        layout = DenseLayout(coupling_map, None if ideal else backend_properties)\n",
    "    elif layout_method == 'noise_adaptive':\n",
    "        layout = NoiseAdaptiveLayout(backend_properties)\n",
    "    elif layout_method == 'sabre':\n",
    "        layout = SabreLayout(coupling_map, max_iterations=1, seed=seed)\n",
    "    elif layout_method == 'lcslayout':\n",
    "        layout = LCSlayout(coupling_map, seed=seed)\n",
    "    else:\n",
    "        raise Exception('layout_method unknown %s' % layout_method)\n",
    "\n",
    "    if ideal:\n",
    "        simulator = QasmSimulator(configuration=backend.configuration(),\n",
    "                                  method='stabilizer')\n",
    "    else:\n",
    "        noise_model = NoiseModel.from_backend(backend, thermal_relaxation=False)\n",
    "        simulator = QasmSimulator(configuration=backend.configuration(),\n",
    "                                  noise_model=noise_model,\n",
    "                                  method='stabilizer')\n",
    "\n",
    "    passmanager = custom_pass_manager(backend, layout)\n",
    "\n",
    "    times = {}\n",
    "    count_ops_after_map = {}\n",
    "\n",
    "    def callback(**kwargs):\n",
    "        times[kwargs['pass_'].name()] = times.get(kwargs['pass_'].name(), 0) + kwargs['time']\n",
    "        if kwargs['pass_'].name() == 'StochasticSwap':\n",
    "            count_ops_after_map.update(kwargs['dag'].count_ops())\n",
    "    \n",
    "    transpiled = passmanager.run(circuit, callback=callback)\n",
    "\n",
    "    needed_swaps = 0 if passmanager.property_set['is_swap_mapped'] else count_ops_after_map['swap']\n",
    "\n",
    "    qobj = assemble(transpiled, backend, shots=shots, seed_simulator=0)\n",
    "    result = simulator.run(qobj).result()\n",
    "    counts = result.get_counts()\n",
    "    time = times[layout.name()]\n",
    "\n",
    "    return counts, time, needed_swaps"
   ]
  },
  {
   "source": [
    "## Runner"
   ],
   "cell_type": "markdown",
   "metadata": {}
  },
  {
   "cell_type": "code",
   "execution_count": 3,
   "metadata": {},
   "outputs": [],
   "source": [
    "import pandas as pd\n",
    "from qiskit.test.mock.backends import FakeManhattan\n",
    "from qiskit.providers.aer import QasmSimulator\n",
    "\n",
    "from exp.circuit_generators import graphstate_complete_hm\n",
    "from exp.write_to_df import write_to_dataframe"
   ]
  },
  {
   "cell_type": "code",
   "execution_count": 4,
   "metadata": {},
   "outputs": [],
   "source": [
    "def exp2_run(layout_method, exp_path, num_samples=100, num_qubits=12, num_shots=8192):\n",
    "    backend = FakeManhattan()\n",
    "    circuit = graphstate_complete_hm(num_qubits)\n",
    "\n",
    "    df = pd.DataFrame(columns=[\"seed\", \"state\", \"ideal_count\", \"noise_count\", \\\n",
    "                           \"ideal_time\", \"noise_time\", \"ideal_swaps_needed\", \"noise_swaps_needed\"])\n",
    "    for num_index in range(num_samples):\n",
    "        seed = num_index\n",
    "        ideal_counts, ideal_time, swaps_needed_ideal = exp2_evaluate(\n",
    "            circuit, layout_method, backend=backend, ideal=True, shots=num_shots, seed=seed)\n",
    "        noise_counts, noise_time, swaps_needed_noise = exp2_evaluate(\n",
    "            circuit, layout_method, backend=backend, ideal=False, shots=num_shots, seed=seed)\n",
    "        total_result = {'seed': seed,\n",
    "                        'ideal_counts': ideal_counts,\n",
    "                        'noise_counts': noise_counts,\n",
    "                        'ideal_time': ideal_time,\n",
    "                        'noise_time': noise_time,\n",
    "                        'ideal_swaps_needed': swaps_needed_ideal,\n",
    "                        'noise_swaps_needed': swaps_needed_noise}\n",
    "\n",
    "        df_loc = write_to_dataframe(total_result)\n",
    "        df = df.append(df_loc)\n",
    "\n",
    "    df.to_csv(exp_path + f'exp2_{layout_method}.csv')"
   ]
  },
  {
   "source": [
    "## Execution"
   ],
   "cell_type": "markdown",
   "metadata": {}
  },
  {
   "cell_type": "code",
   "execution_count": 5,
   "metadata": {},
   "outputs": [],
   "source": [
    "layout_methods = [\n",
    "    'csprbslayout',\n",
    "    'dense',\n",
    "    'noise_adaptive',\n",
    "    'sabre',\n",
    "    'mcmclayout'\n",
    "    #'lcslayout'\n",
    "]\n",
    "exp_path = \"./data/\"\n",
    "num_samples = 100\n",
    "for method in layout_methods:\n",
    "    exp2_run(method, exp_path, num_samples=num_samples)"
   ]
  },
  {
   "cell_type": "code",
   "execution_count": null,
   "metadata": {},
   "outputs": [],
   "source": []
  }
 ]
}