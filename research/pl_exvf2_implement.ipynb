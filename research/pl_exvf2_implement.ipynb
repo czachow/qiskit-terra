{
 "cells": [
  {
   "cell_type": "code",
   "execution_count": 1,
   "id": "ebdf4ff3",
   "metadata": {},
   "outputs": [],
   "source": [
    "import retworkx as rx\n",
    "from retworkx.visualization import graphviz_draw\n",
    "\n",
    "\n",
    "# Create the extended graph:\n",
    "# connect every pair of nodes at distance below or equal than k.\n",
    "def _build_distk_graph(graph, dist=None, k=1):\n",
    "    if dist is None:\n",
    "        dist = rx.graph_all_pairs_dijkstra_path_lengths(graph, lambda _: 1)\n",
    "\n",
    "    nodes = graph.node_indexes()\n",
    "    perm = {v: i for i, v in enumerate(nodes)}\n",
    "\n",
    "    graph_k = rx.PyGraph(multigraph=False)\n",
    "    graph_k.add_nodes_from(\n",
    "        list(range(len(nodes)))\n",
    "    )\n",
    "    for v in nodes:\n",
    "        for w, dval in dist[v].items():\n",
    "            if dval <= k:\n",
    "                graph_k.add_edge(perm[v], perm[w], None)\n",
    "    \n",
    "    return graph_k, perm\n",
    "\n",
    "\n",
    "\n",
    "# Binary search over the \"distance\" threshold.\n",
    "# This is equivalent to find the optimal value such that\n",
    "# all \"logical\" qubits that interact in the circuit\n",
    "# are mapped to physical qubits whose distance is below this value.\n",
    "def bsearch(first, second):\n",
    "    L = 1\n",
    "    R = len(first) - 1\n",
    "    \n",
    "    dist = rx.graph_all_pairs_dijkstra_path_lengths(first, lambda _: 1)\n",
    "    \n",
    "    while L < R:\n",
    "        mid = (L + R) // 2\n",
    "        graph, _ = _build_distk_graph(first, dist, mid)\n",
    "        res = rx.is_subgraph_isomorphic(graph, second,\n",
    "                                        id_order=False, induced=False)\n",
    "        \n",
    "        if not res:\n",
    "            L = mid + 1\n",
    "        else:\n",
    "            R = mid\n",
    "\n",
    "    return L\n",
    "\n",
    "\n",
    "# Compute the total cost := Sum over the cost of all edges in the interaction graph.\n",
    "def cost(dist, im, mapping):\n",
    "    tot = 0\n",
    "    for u, v in im.edge_list():\n",
    "        pu = mapping[u]\n",
    "        pv = mapping[v]\n",
    "        tot += (dist[pu][pv] - 1)\n",
    "\n",
    "    return tot\n",
    "\n",
    "\n",
    "# utility to visualize the coupling graph and the selected layout.\n",
    "def visualize(cm, p2v):\n",
    "    nodes = set(cm.node_indexes())\n",
    "    maxn = max(nodes) + 1\n",
    "\n",
    "    # \"trick\" to put weights in the original cm graph.\n",
    "    # TODO: should make this easier in retworkx.\n",
    "    graph = rx.PyGraph(multigraph=False)\n",
    "    graph.add_nodes_from(list(range(maxn)))\n",
    "    graph.remove_nodes_from([\n",
    "        v for v in range(maxn) if v not in nodes\n",
    "    ])\n",
    "    \n",
    "    graph.add_edges_from(\n",
    "        list(cm.weighted_edge_list())\n",
    "    )\n",
    "\n",
    "    def node_attr(node):\n",
    "        if node in p2v:\n",
    "            return {\n",
    "                'fillcolor': 'gray',\n",
    "                'style': 'filled',\n",
    "                'label': 'p' + str(node) + '-> q' + str(p2v[node])\n",
    "            }\n",
    "\n",
    "        return {'color': 'black', 'label': 'p' + str(node)}\n",
    "\n",
    "    \n",
    "    return graphviz_draw(graph, node_attr)"
   ]
  },
  {
   "cell_type": "code",
   "execution_count": 2,
   "id": "5f9f856e",
   "metadata": {},
   "outputs": [
    {
     "output_type": "stream",
     "name": "stderr",
     "text": [
      "/Applications/anaconda3/envs/qiskit-terra-dev/lib/python3.8/site-packages/ipykernel/ipkernel.py:287: DeprecationWarning: `should_run_async` will not call `transform_cell` automatically in the future. Please pass the result to `transformed_cell` argument and any exception that happen during thetransform in `preprocessing_exc_tuple` in IPython 7.17 and above.\n  and should_run_async(code)\n"
     ]
    }
   ],
   "source": [
    "def cycle6_extra_edge():\n",
    "    graph = rx.generators.cycle_graph(6)\n",
    "    graph.add_edge(0, 3, None)\n",
    "    \n",
    "    return graph\n",
    "\n",
    "\n",
    "testcases = {\n",
    "    'ring_in_linear': {\n",
    "        'cm': rx.generators.path_graph(15),\n",
    "        'im': rx.generators.cycle_graph(5)\n",
    "    },\n",
    "    'star_in_hex': {\n",
    "        'cm': rx.generators.hexagonal_lattice_graph(2, 1), \n",
    "        'im': rx.generators.star_graph(5)\n",
    "    },\n",
    "    'complete_in_hex': {\n",
    "        'cm': rx.generators.hexagonal_lattice_graph(3, 3),\n",
    "        'im': rx.generators.mesh_graph(6)\n",
    "    },\n",
    "    'high_degree': {\n",
    "        'cm': rx.generators.grid_graph(3, 3), \n",
    "        'im': rx.generators.star_graph(6)\n",
    "    },\n",
    "    '6cycle_extra_edge_in_hex': {\n",
    "        'cm': rx.generators.hexagonal_lattice_graph(2, 1),\n",
    "        'im': cycle6_extra_edge(),\n",
    "    },\n",
    "    '6cycle_extra_edge_in_6cycle': {\n",
    "        'cm': rx.generators.cycle_graph(6),\n",
    "        'im': cycle6_extra_edge(),\n",
    "    },\n",
    "}"
   ]
  },
  {
   "cell_type": "code",
   "execution_count": 3,
   "id": "ff824921",
   "metadata": {},
   "outputs": [
    {
     "output_type": "stream",
     "name": "stdout",
     "text": [
      "Optimal distance threshold:  2\n"
     ]
    }
   ],
   "source": [
    "case = testcases['6cycle_extra_edge_in_hex']\n",
    "cm = case['cm']\n",
    "im = case['im']\n",
    "\n",
    "opt_k = bsearch(cm, im)\n",
    "print('Optimal distance threshold: ', opt_k)"
   ]
  },
  {
   "cell_type": "code",
   "execution_count": 4,
   "id": "6b517e99",
   "metadata": {},
   "outputs": [
    {
     "output_type": "stream",
     "name": "stdout",
     "text": [
      "found mapping:\n {3: 8, 0: 2, 5: 3, 1: 1, 4: 10, 2: 6}\nwith cost:\n 4.0\n"
     ]
    }
   ],
   "source": [
    "dist = rx.graph_all_pairs_dijkstra_path_lengths(cm, lambda _: 1)\n",
    "cm_ext, perm = _build_distk_graph(cm, dist, opt_k)\n",
    "perm = {new: old for old, new in perm.items()}\n",
    "\n",
    "# find a mapping.\n",
    "# this will return an iterator over all valid mappings.\n",
    "# we just \"store\" the first one.\n",
    "vf2 = rx.graph_vf2_mapping(cm_ext, im, subgraph=True,\n",
    "                           id_order=False, induced=False)\n",
    "\n",
    "try:\n",
    "    p2v = next(vf2)\n",
    "    p2v = {perm[k]: v for k, v in p2v.items()}\n",
    "    # logical -> physical\n",
    "    v2p = {v: k for k, v in p2v.items()}\n",
    "\n",
    "    print('found mapping:\\n', v2p)\n",
    "    print('with cost:\\n', cost(dist, im, v2p))\n",
    "except StopIteration:\n",
    "    print('no solution found. Why?')\n",
    "    pass"
   ]
  },
  {
   "cell_type": "code",
   "execution_count": 5,
   "id": "8bb69ea5",
   "metadata": {},
   "outputs": [
    {
     "output_type": "error",
     "ename": "RuntimeError",
     "evalue": "Graphviz could not be found or run. This function requires that Graphviz is installed. If you need to install Graphviz you can refer to: https://graphviz.org/download/#executable-packages for instructions.",
     "traceback": [
      "\u001b[0;31m---------------------------------------------------------------------------\u001b[0m",
      "\u001b[0;31mFileNotFoundError\u001b[0m                         Traceback (most recent call last)",
      "\u001b[0;32m/Applications/anaconda3/envs/qiskit-terra-dev/lib/python3.8/site-packages/retworkx/visualization/graphviz.py\u001b[0m in \u001b[0;36mgraphviz_draw\u001b[0;34m(graph, node_attr_fn, edge_attr_fn, graph_attr, filename, image_type, method)\u001b[0m\n\u001b[1;32m    110\u001b[0m     \u001b[0;32mtry\u001b[0m\u001b[0;34m:\u001b[0m\u001b[0;34m\u001b[0m\u001b[0;34m\u001b[0m\u001b[0m\n\u001b[0;32m--> 111\u001b[0;31m         \u001b[0mpydot\u001b[0m\u001b[0;34m.\u001b[0m\u001b[0mcall_graphviz\u001b[0m\u001b[0;34m(\u001b[0m\u001b[0;34m\"dot\"\u001b[0m\u001b[0;34m,\u001b[0m \u001b[0;34m[\u001b[0m\u001b[0;34m\"--version\"\u001b[0m\u001b[0;34m]\u001b[0m\u001b[0;34m,\u001b[0m \u001b[0mtempfile\u001b[0m\u001b[0;34m.\u001b[0m\u001b[0mgettempdir\u001b[0m\u001b[0;34m(\u001b[0m\u001b[0;34m)\u001b[0m\u001b[0;34m)\u001b[0m\u001b[0;34m\u001b[0m\u001b[0;34m\u001b[0m\u001b[0m\n\u001b[0m\u001b[1;32m    112\u001b[0m     \u001b[0;32mexcept\u001b[0m \u001b[0mException\u001b[0m\u001b[0;34m:\u001b[0m\u001b[0;34m\u001b[0m\u001b[0;34m\u001b[0m\u001b[0m\n",
      "\u001b[0;32m/Applications/anaconda3/envs/qiskit-terra-dev/lib/python3.8/site-packages/pydot.py\u001b[0m in \u001b[0;36mcall_graphviz\u001b[0;34m(program, arguments, working_dir, **kwargs)\u001b[0m\n\u001b[1;32m    128\u001b[0m \u001b[0;34m\u001b[0m\u001b[0m\n\u001b[0;32m--> 129\u001b[0;31m     process = subprocess.Popen(\n\u001b[0m\u001b[1;32m    130\u001b[0m         \u001b[0mprogram_with_args\u001b[0m\u001b[0;34m,\u001b[0m\u001b[0;34m\u001b[0m\u001b[0;34m\u001b[0m\u001b[0m\n",
      "\u001b[0;32m/Applications/anaconda3/envs/qiskit-terra-dev/lib/python3.8/subprocess.py\u001b[0m in \u001b[0;36m__init__\u001b[0;34m(self, args, bufsize, executable, stdin, stdout, stderr, preexec_fn, close_fds, shell, cwd, env, universal_newlines, startupinfo, creationflags, restore_signals, start_new_session, pass_fds, encoding, errors, text)\u001b[0m\n\u001b[1;32m    853\u001b[0m \u001b[0;34m\u001b[0m\u001b[0m\n\u001b[0;32m--> 854\u001b[0;31m             self._execute_child(args, executable, preexec_fn, close_fds,\n\u001b[0m\u001b[1;32m    855\u001b[0m                                 \u001b[0mpass_fds\u001b[0m\u001b[0;34m,\u001b[0m \u001b[0mcwd\u001b[0m\u001b[0;34m,\u001b[0m \u001b[0menv\u001b[0m\u001b[0;34m,\u001b[0m\u001b[0;34m\u001b[0m\u001b[0;34m\u001b[0m\u001b[0m\n",
      "\u001b[0;32m/Applications/anaconda3/envs/qiskit-terra-dev/lib/python3.8/subprocess.py\u001b[0m in \u001b[0;36m_execute_child\u001b[0;34m(self, args, executable, preexec_fn, close_fds, pass_fds, cwd, env, startupinfo, creationflags, shell, p2cread, p2cwrite, c2pread, c2pwrite, errread, errwrite, restore_signals, start_new_session)\u001b[0m\n\u001b[1;32m   1701\u001b[0m                         \u001b[0merr_msg\u001b[0m \u001b[0;34m=\u001b[0m \u001b[0mos\u001b[0m\u001b[0;34m.\u001b[0m\u001b[0mstrerror\u001b[0m\u001b[0;34m(\u001b[0m\u001b[0merrno_num\u001b[0m\u001b[0;34m)\u001b[0m\u001b[0;34m\u001b[0m\u001b[0;34m\u001b[0m\u001b[0m\n\u001b[0;32m-> 1702\u001b[0;31m                     \u001b[0;32mraise\u001b[0m \u001b[0mchild_exception_type\u001b[0m\u001b[0;34m(\u001b[0m\u001b[0merrno_num\u001b[0m\u001b[0;34m,\u001b[0m \u001b[0merr_msg\u001b[0m\u001b[0;34m,\u001b[0m \u001b[0merr_filename\u001b[0m\u001b[0;34m)\u001b[0m\u001b[0;34m\u001b[0m\u001b[0;34m\u001b[0m\u001b[0m\n\u001b[0m\u001b[1;32m   1703\u001b[0m                 \u001b[0;32mraise\u001b[0m \u001b[0mchild_exception_type\u001b[0m\u001b[0;34m(\u001b[0m\u001b[0merr_msg\u001b[0m\u001b[0;34m)\u001b[0m\u001b[0;34m\u001b[0m\u001b[0;34m\u001b[0m\u001b[0m\n",
      "\u001b[0;31mFileNotFoundError\u001b[0m: [Errno 2] No such file or directory: 'dot'",
      "\nDuring handling of the above exception, another exception occurred:\n",
      "\u001b[0;31mRuntimeError\u001b[0m                              Traceback (most recent call last)",
      "\u001b[0;32m<ipython-input-5-1b720b1548ad>\u001b[0m in \u001b[0;36m<module>\u001b[0;34m\u001b[0m\n\u001b[0;32m----> 1\u001b[0;31m \u001b[0mvisualize\u001b[0m\u001b[0;34m(\u001b[0m\u001b[0mcm\u001b[0m\u001b[0;34m,\u001b[0m \u001b[0mp2v\u001b[0m\u001b[0;34m)\u001b[0m\u001b[0;34m\u001b[0m\u001b[0;34m\u001b[0m\u001b[0m\n\u001b[0m",
      "\u001b[0;32m<ipython-input-1-ef3697d68add>\u001b[0m in \u001b[0;36mvisualize\u001b[0;34m(cm, p2v)\u001b[0m\n\u001b[1;32m     88\u001b[0m \u001b[0;34m\u001b[0m\u001b[0m\n\u001b[1;32m     89\u001b[0m \u001b[0;34m\u001b[0m\u001b[0m\n\u001b[0;32m---> 90\u001b[0;31m     \u001b[0;32mreturn\u001b[0m \u001b[0mgraphviz_draw\u001b[0m\u001b[0;34m(\u001b[0m\u001b[0mgraph\u001b[0m\u001b[0;34m,\u001b[0m \u001b[0mnode_attr\u001b[0m\u001b[0;34m)\u001b[0m\u001b[0;34m\u001b[0m\u001b[0;34m\u001b[0m\u001b[0m\n\u001b[0m",
      "\u001b[0;32m/Applications/anaconda3/envs/qiskit-terra-dev/lib/python3.8/site-packages/retworkx/visualization/graphviz.py\u001b[0m in \u001b[0;36mgraphviz_draw\u001b[0;34m(graph, node_attr_fn, edge_attr_fn, graph_attr, filename, image_type, method)\u001b[0m\n\u001b[1;32m    111\u001b[0m         \u001b[0mpydot\u001b[0m\u001b[0;34m.\u001b[0m\u001b[0mcall_graphviz\u001b[0m\u001b[0;34m(\u001b[0m\u001b[0;34m\"dot\"\u001b[0m\u001b[0;34m,\u001b[0m \u001b[0;34m[\u001b[0m\u001b[0;34m\"--version\"\u001b[0m\u001b[0;34m]\u001b[0m\u001b[0;34m,\u001b[0m \u001b[0mtempfile\u001b[0m\u001b[0;34m.\u001b[0m\u001b[0mgettempdir\u001b[0m\u001b[0;34m(\u001b[0m\u001b[0;34m)\u001b[0m\u001b[0;34m)\u001b[0m\u001b[0;34m\u001b[0m\u001b[0;34m\u001b[0m\u001b[0m\n\u001b[1;32m    112\u001b[0m     \u001b[0;32mexcept\u001b[0m \u001b[0mException\u001b[0m\u001b[0;34m:\u001b[0m\u001b[0;34m\u001b[0m\u001b[0;34m\u001b[0m\u001b[0m\n\u001b[0;32m--> 113\u001b[0;31m         raise RuntimeError(\n\u001b[0m\u001b[1;32m    114\u001b[0m             \u001b[0;34m\"Graphviz could not be found or run. This function requires that \"\u001b[0m\u001b[0;34m\u001b[0m\u001b[0;34m\u001b[0m\u001b[0m\n\u001b[1;32m    115\u001b[0m             \u001b[0;34m\"Graphviz is installed. If you need to install Graphviz you can \"\u001b[0m\u001b[0;34m\u001b[0m\u001b[0;34m\u001b[0m\u001b[0m\n",
      "\u001b[0;31mRuntimeError\u001b[0m: Graphviz could not be found or run. This function requires that Graphviz is installed. If you need to install Graphviz you can refer to: https://graphviz.org/download/#executable-packages for instructions."
     ]
    }
   ],
   "source": [
    "visualize(cm, p2v)"
   ]
  }
 ],
 "metadata": {
  "kernelspec": {
   "name": "python3",
   "display_name": "Python 3.8.5 64-bit ('qiskit-terra-dev': conda)"
  },
  "language_info": {
   "codemirror_mode": {
    "name": "ipython",
    "version": 3
   },
   "file_extension": ".py",
   "mimetype": "text/x-python",
   "name": "python",
   "nbconvert_exporter": "python",
   "pygments_lexer": "ipython3",
   "version": "3.8.5"
  },
  "interpreter": {
   "hash": "9bdb76aafba5af710c8fd8f36381e716ca03ed40979c8942f38e6948f2ed191b"
  }
 },
 "nbformat": 4,
 "nbformat_minor": 5
}