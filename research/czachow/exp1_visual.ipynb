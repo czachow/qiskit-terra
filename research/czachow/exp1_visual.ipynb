{
 "metadata": {
  "language_info": {
   "codemirror_mode": {
    "name": "ipython",
    "version": 3
   },
   "file_extension": ".py",
   "mimetype": "text/x-python",
   "name": "python",
   "nbconvert_exporter": "python",
   "pygments_lexer": "ipython3",
   "version": "3.8.5-final"
  },
  "orig_nbformat": 2,
  "kernelspec": {
   "name": "python3",
   "display_name": "Python 3",
   "language": "python"
  }
 },
 "nbformat": 4,
 "nbformat_minor": 2,
 "cells": [
  {
   "source": [
    "# Visualiation for the Experiment 1"
   ],
   "cell_type": "markdown",
   "metadata": {}
  },
  {
   "cell_type": "code",
   "execution_count": 1,
   "metadata": {},
   "outputs": [],
   "source": [
    "%run exp1_tools.ipynb"
   ]
  },
  {
   "cell_type": "code",
   "execution_count": 2,
   "metadata": {},
   "outputs": [
    {
     "output_type": "stream",
     "name": "stderr",
     "text": [
      "/Applications/anaconda3/envs/qiskit-terra-dev/lib/python3.8/site-packages/ipykernel/ipkernel.py:287: DeprecationWarning: `should_run_async` will not call `transform_cell` automatically in the future. Please pass the result to `transformed_cell` argument and any exception that happen during thetransform in `preprocessing_exc_tuple` in IPython 7.17 and above.\n  and should_run_async(code)\n"
     ]
    }
   ],
   "source": [
    "import pandas as pd\n",
    "import matplotlib.pylab as plt"
   ]
  },
  {
   "source": [
    "## Parameters"
   ],
   "cell_type": "markdown",
   "metadata": {}
  },
  {
   "cell_type": "code",
   "execution_count": 3,
   "metadata": {},
   "outputs": [
    {
     "output_type": "stream",
     "name": "stderr",
     "text": [
      "/Applications/anaconda3/envs/qiskit-terra-dev/lib/python3.8/site-packages/ipykernel/ipkernel.py:287: DeprecationWarning: `should_run_async` will not call `transform_cell` automatically in the future. Please pass the result to `transformed_cell` argument and any exception that happen during thetransform in `preprocessing_exc_tuple` in IPython 7.17 and above.\n  and should_run_async(code)\n"
     ]
    }
   ],
   "source": [
    "file_path = \"~/Datastore/qiskit-terra/\"\n",
    "layout_methods = ['csplayout']"
   ]
  },
  {
   "source": [
    "## Collect Experiments"
   ],
   "cell_type": "markdown",
   "metadata": {}
  },
  {
   "cell_type": "code",
   "execution_count": 14,
   "metadata": {},
   "outputs": [
    {
     "output_type": "stream",
     "name": "stderr",
     "text": [
      "/Applications/anaconda3/envs/qiskit-terra-dev/lib/python3.8/site-packages/ipykernel/ipkernel.py:287: DeprecationWarning: `should_run_async` will not call `transform_cell` automatically in the future. Please pass the result to `transformed_cell` argument and any exception that happen during thetransform in `preprocessing_exc_tuple` in IPython 7.17 and above.\n  and should_run_async(code)\n"
     ]
    }
   ],
   "source": [
    "df = pd.DataFrame()\n",
    "for lm in layout_methods:\n",
    "    filename = file_path + \"exp1_\"+ str(lm) + \".csv\"\n",
    "    local_df = pd.read_csv(filename, index_col=[0])\n",
    "    local_df = local_df.assign(method=[lm] * len(local_df))\n",
    "    df = pd.concat([df, local_df])"
   ]
  },
  {
   "cell_type": "code",
   "execution_count": null,
   "metadata": {},
   "outputs": [],
   "source": [
    "seeds = pd.unique(df[\"seed\"])\n",
    "seed_df_grps = {seed: df.loc[df[\"seed\"] == seed].groupby(\"\")}"
   ]
  },
  {
   "cell_type": "code",
   "execution_count": null,
   "metadata": {},
   "outputs": [],
   "source": []
  },
  {
   "cell_type": "code",
   "execution_count": 15,
   "metadata": {},
   "outputs": [
    {
     "output_type": "stream",
     "name": "stderr",
     "text": [
      "/Applications/anaconda3/envs/qiskit-terra-dev/lib/python3.8/site-packages/ipykernel/ipkernel.py:287: DeprecationWarning: `should_run_async` will not call `transform_cell` automatically in the future. Please pass the result to `transformed_cell` argument and any exception that happen during thetransform in `preprocessing_exc_tuple` in IPython 7.17 and above.\n  and should_run_async(code)\n"
     ]
    },
    {
     "output_type": "execute_result",
     "data": {
      "text/plain": [
       "      seed         state  ideal_count  noise_count  ideal_time  noise_time  \\\n",
       "0        0  111111001011            2            0    0.004328    0.002708   \n",
       "1        0     110110110            2            4    0.004328    0.002708   \n",
       "2        0    1011000001            3            5    0.004328    0.002708   \n",
       "3        0    1111011001            0            1    0.004328    0.002708   \n",
       "4        0     111010010            2            2    0.004328    0.002708   \n",
       "...    ...           ...          ...          ...         ...         ...   \n",
       "4014     0  101010100011            0            1    0.004328    0.002708   \n",
       "4015     0  110100111000            2            4    0.004328    0.002708   \n",
       "4016     0  111011100001            1            1    0.004328    0.002708   \n",
       "4017     0  110111001011            2            2    0.004328    0.002708   \n",
       "4018     0   10001111011            2            0    0.004328    0.002708   \n",
       "\n",
       "      ideal_swaps_needed  noise_swaps_needed     method  \n",
       "0                      0                   0  csplayout  \n",
       "1                      0                   0  csplayout  \n",
       "2                      0                   0  csplayout  \n",
       "3                      0                   0  csplayout  \n",
       "4                      0                   0  csplayout  \n",
       "...                  ...                 ...        ...  \n",
       "4014                   0                   0  csplayout  \n",
       "4015                   0                   0  csplayout  \n",
       "4016                   0                   0  csplayout  \n",
       "4017                   0                   0  csplayout  \n",
       "4018                   0                   0  csplayout  \n",
       "\n",
       "[4019 rows x 9 columns]"
      ],
      "text/html": "<div>\n<style scoped>\n    .dataframe tbody tr th:only-of-type {\n        vertical-align: middle;\n    }\n\n    .dataframe tbody tr th {\n        vertical-align: top;\n    }\n\n    .dataframe thead th {\n        text-align: right;\n    }\n</style>\n<table border=\"1\" class=\"dataframe\">\n  <thead>\n    <tr style=\"text-align: right;\">\n      <th></th>\n      <th>seed</th>\n      <th>state</th>\n      <th>ideal_count</th>\n      <th>noise_count</th>\n      <th>ideal_time</th>\n      <th>noise_time</th>\n      <th>ideal_swaps_needed</th>\n      <th>noise_swaps_needed</th>\n      <th>method</th>\n    </tr>\n  </thead>\n  <tbody>\n    <tr>\n      <th>0</th>\n      <td>0</td>\n      <td>111111001011</td>\n      <td>2</td>\n      <td>0</td>\n      <td>0.004328</td>\n      <td>0.002708</td>\n      <td>0</td>\n      <td>0</td>\n      <td>csplayout</td>\n    </tr>\n    <tr>\n      <th>1</th>\n      <td>0</td>\n      <td>110110110</td>\n      <td>2</td>\n      <td>4</td>\n      <td>0.004328</td>\n      <td>0.002708</td>\n      <td>0</td>\n      <td>0</td>\n      <td>csplayout</td>\n    </tr>\n    <tr>\n      <th>2</th>\n      <td>0</td>\n      <td>1011000001</td>\n      <td>3</td>\n      <td>5</td>\n      <td>0.004328</td>\n      <td>0.002708</td>\n      <td>0</td>\n      <td>0</td>\n      <td>csplayout</td>\n    </tr>\n    <tr>\n      <th>3</th>\n      <td>0</td>\n      <td>1111011001</td>\n      <td>0</td>\n      <td>1</td>\n      <td>0.004328</td>\n      <td>0.002708</td>\n      <td>0</td>\n      <td>0</td>\n      <td>csplayout</td>\n    </tr>\n    <tr>\n      <th>4</th>\n      <td>0</td>\n      <td>111010010</td>\n      <td>2</td>\n      <td>2</td>\n      <td>0.004328</td>\n      <td>0.002708</td>\n      <td>0</td>\n      <td>0</td>\n      <td>csplayout</td>\n    </tr>\n    <tr>\n      <th>...</th>\n      <td>...</td>\n      <td>...</td>\n      <td>...</td>\n      <td>...</td>\n      <td>...</td>\n      <td>...</td>\n      <td>...</td>\n      <td>...</td>\n      <td>...</td>\n    </tr>\n    <tr>\n      <th>4014</th>\n      <td>0</td>\n      <td>101010100011</td>\n      <td>0</td>\n      <td>1</td>\n      <td>0.004328</td>\n      <td>0.002708</td>\n      <td>0</td>\n      <td>0</td>\n      <td>csplayout</td>\n    </tr>\n    <tr>\n      <th>4015</th>\n      <td>0</td>\n      <td>110100111000</td>\n      <td>2</td>\n      <td>4</td>\n      <td>0.004328</td>\n      <td>0.002708</td>\n      <td>0</td>\n      <td>0</td>\n      <td>csplayout</td>\n    </tr>\n    <tr>\n      <th>4016</th>\n      <td>0</td>\n      <td>111011100001</td>\n      <td>1</td>\n      <td>1</td>\n      <td>0.004328</td>\n      <td>0.002708</td>\n      <td>0</td>\n      <td>0</td>\n      <td>csplayout</td>\n    </tr>\n    <tr>\n      <th>4017</th>\n      <td>0</td>\n      <td>110111001011</td>\n      <td>2</td>\n      <td>2</td>\n      <td>0.004328</td>\n      <td>0.002708</td>\n      <td>0</td>\n      <td>0</td>\n      <td>csplayout</td>\n    </tr>\n    <tr>\n      <th>4018</th>\n      <td>0</td>\n      <td>10001111011</td>\n      <td>2</td>\n      <td>0</td>\n      <td>0.004328</td>\n      <td>0.002708</td>\n      <td>0</td>\n      <td>0</td>\n      <td>csplayout</td>\n    </tr>\n  </tbody>\n</table>\n<p>4019 rows × 9 columns</p>\n</div>"
     },
     "metadata": {},
     "execution_count": 15
    }
   ],
   "source": [
    "df"
   ]
  },
  {
   "cell_type": "code",
   "execution_count": null,
   "metadata": {},
   "outputs": [],
   "source": []
  }
 ]
}