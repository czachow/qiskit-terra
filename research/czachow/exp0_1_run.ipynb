{
 "metadata": {
  "language_info": {
   "codemirror_mode": {
    "name": "ipython",
    "version": 3
   },
   "file_extension": ".py",
   "mimetype": "text/x-python",
   "name": "python",
   "nbconvert_exporter": "python",
   "pygments_lexer": "ipython3",
   "version": "3.8.8-final"
  },
  "orig_nbformat": 2,
  "kernelspec": {
   "name": "python3",
   "display_name": "Python 3",
   "language": "python"
  }
 },
 "nbformat": 4,
 "nbformat_minor": 2,
 "cells": [
  {
   "source": [
    "# Runner for Experiment 0 Part 1"
   ],
   "cell_type": "markdown",
   "metadata": {}
  },
  {
   "cell_type": "code",
   "execution_count": 1,
   "metadata": {},
   "outputs": [],
   "source": [
    "import pandas as pd\n",
    "\n",
    "from qiskit import assemble\n",
    "from qiskit.transpiler import CouplingMap\n",
    "from qiskit.transpiler.passes import CspRbsLayout\n",
    "from qiskit.providers.aer import QasmSimulator\n",
    "from qiskit.providers.aer.noise import NoiseModel\n",
    "from qiskit.test.mock.backends import FakeManhattan\n",
    "\n",
    "\n",
    "from exp.custom_passmanager import custom_pass_manager\n",
    "from exp.circuit_generators import graphstate_manhatten_ring\n",
    "from exp.write_to_df import write_to_dataframe"
   ]
  },
  {
   "cell_type": "code",
   "execution_count": 2,
   "metadata": {},
   "outputs": [],
   "source": [
    "exp_path = \"./data/\"\n",
    "num_samples = 1\n",
    "num_qubits = 12"
   ]
  },
  {
   "cell_type": "code",
   "execution_count": 3,
   "metadata": {},
   "outputs": [],
   "source": [
    "backend = FakeManhattan()\n",
    "coupling_map = CouplingMap(backend.configuration().coupling_map)\n",
    "backend_properties = backend.properties()"
   ]
  },
  {
   "cell_type": "code",
   "execution_count": 12,
   "metadata": {},
   "outputs": [],
   "source": [
    "def exp0_1_evaluate(circuit, solution_limit, backend, ideal=True, shots=16384, seed=None, layout_reps=100):\n",
    "\n",
    "    layout_pass = CspRbsLayout(coupling_map, seed=seed, call_limit=None, time_limit=None, \\\n",
    "                               solution_limit=solution_limit, iteration_limit=1, backend_prop=backend.properties())\n",
    "\n",
    "    if ideal:\n",
    "        simulator = QasmSimulator(configuration=backend.configuration(),\n",
    "                                  method='stabilizer')\n",
    "    else:\n",
    "        noise_model = NoiseModel.from_backend(backend, thermal_relaxation=False)\n",
    "        simulator = QasmSimulator(configuration=backend.configuration(),\n",
    "                                  noise_model=noise_model,\n",
    "                                  method='stabilizer')\n",
    "\n",
    "    passmanager = custom_pass_manager(backend, layout_pass, layout_reps=layout_reps, seed=seed)\n",
    "\n",
    "    times = {}\n",
    "    count_ops_after_map = {}\n",
    "\n",
    "    def callback(**kwargs):\n",
    "        times[kwargs['pass_'].name()] = times.get(kwargs['pass_'].name(), 0) + kwargs['time']\n",
    "        if kwargs['pass_'].name() == 'LookaheadSwap':\n",
    "            count_ops_after_map.update(kwargs['dag'].count_ops())\n",
    "\n",
    "    transpiled = passmanager.run(circuit, callback=callback)\n",
    "\n",
    "    needed_swaps = 0 if passmanager.property_set['is_swap_mapped'] else count_ops_after_map['swap']\n",
    "\n",
    "    qobj = assemble(transpiled, backend, shots=shots, seed_simulator=seed)\n",
    "    result = simulator.run(qobj).result()\n",
    "    counts = result.get_counts()\n",
    "    time = times[layout_pass.name()] / layout_reps\n",
    "\n",
    "    return counts, time, needed_swaps"
   ]
  },
  {
   "cell_type": "code",
   "execution_count": 13,
   "metadata": {},
   "outputs": [],
   "source": [
    "def exp0_1_run(solution_limit, exp_path, num_samples=100, num_qubits=12, num_shots=16384):\n",
    "    backend = FakeManhattan()\n",
    "    circuit = graphstate_manhatten_ring_hm(num_qubits)\n",
    "\n",
    "    df = pd.DataFrame(columns=[\"seed\", \"state\", \"ideal_count\", \"noise_count\", \\\n",
    "                               \"ideal_time\", \"noise_time\", \"ideal_swaps_needed\", \"noise_swaps_needed\"])\n",
    "    \n",
    "    for num_index in range(num_samples):\n",
    "        seed = num_index\n",
    "        ideal_counts, ideal_time, swaps_needed_ideal = exp0_1_evaluate(\n",
    "            circuit, solution_limit, backend=backend, ideal=True, shots=num_shots, seed=seed)\n",
    "        noise_counts, noise_time, swaps_needed_noise = exp0_1_evaluate(\n",
    "            circuit, solution_limit, backend=backend, ideal=False, shots=num_shots, seed=seed)\n",
    "        total_result = {'seed': seed,\n",
    "                        'ideal_counts': ideal_counts,\n",
    "                        'noise_counts': noise_counts,\n",
    "                        'ideal_time': ideal_time,\n",
    "                        'noise_time': noise_time,\n",
    "                        'ideal_swaps_needed': swaps_needed_ideal,\n",
    "                        'noise_swaps_needed': swaps_needed_noise}\n",
    "\n",
    "        df_loc = write_to_dataframe(total_result)\n",
    "        df = df.append(df_loc)\n",
    "\n",
    "    df.to_csv(exp_path + f'exp0_1_s{solution_limit}.csv')"
   ]
  },
  {
   "cell_type": "code",
   "execution_count": 15,
   "metadata": {},
   "outputs": [],
   "source": [
    "solution_limit_max = 21\n",
    "num_samples = 100\n",
    "for solution_limit in range(1, solution_limit_max):\n",
    "    exp0_1_run(solution_limit, exp_path, num_samples=num_samples)"
   ]
  }
 ]
}