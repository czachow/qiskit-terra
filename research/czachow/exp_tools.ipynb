{
 "metadata": {
  "language_info": {
   "codemirror_mode": {
    "name": "ipython",
    "version": 3
   },
   "file_extension": ".py",
   "mimetype": "text/x-python",
   "name": "python",
   "nbconvert_exporter": "python",
   "pygments_lexer": "ipython3",
   "version": 3
  },
  "orig_nbformat": 2
 },
 "nbformat": 4,
 "nbformat_minor": 2,
 "cells": [
  {
   "cell_type": "code",
   "execution_count": null,
   "metadata": {},
   "outputs": [],
   "source": [
    "def hellinger_distance(p, q):\n",
    "    \"\"\"Hellinger distance between two discrete distributions.\"\"\"\n",
    "    list_of_squares = []\n",
    "    for p_i, q_i in zip(p, q):\n",
    "\n",
    "        # caluclate the square of the difference of ith distr elements\n",
    "        s = (math.sqrt(p_i) - math.sqrt(q_i)) ** 2\n",
    "        \n",
    "        # append \n",
    "        list_of_squares.append(s)\n",
    "    \n",
    "    # calculate sum of squares\n",
    "    sosq = sum(list_of_squares)    \n",
    "    \n",
    "    return math.sqrt(sosq / 2)"
   ]
  },
  {
   "cell_type": "code",
   "execution_count": null,
   "metadata": {},
   "outputs": [],
   "source": [
    "def total_variational_distance(p, q):\n",
    "    \"\"\"total variation distance\"\"\"\n",
    "    list_of_diffs = []\n",
    "    for p_i, q_i in zip(p, q):\n",
    "        list_of_diffs.append(abs(p_i-q_i))\n",
    "    return sum(list_of_diffs)/2"
   ]
  }
 ]
}