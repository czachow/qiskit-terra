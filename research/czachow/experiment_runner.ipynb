{
 "metadata": {
  "language_info": {
   "codemirror_mode": {
    "name": "ipython",
    "version": 3
   },
   "file_extension": ".py",
   "mimetype": "text/x-python",
   "name": "python",
   "nbconvert_exporter": "python",
   "pygments_lexer": "ipython3",
   "version": "3.8.5-final"
  },
  "orig_nbformat": 2,
  "kernelspec": {
   "name": "python3",
   "display_name": "Python 3",
   "language": "python"
  }
 },
 "nbformat": 4,
 "nbformat_minor": 2,
 "cells": [
  {
   "source": [
    "# Runner for the Experiments\n",
    "\n",
    "- runs number of Experiments\n",
    "- saves files to given path\n",
    "- one file for each layouting method"
   ],
   "cell_type": "markdown",
   "metadata": {}
  },
  {
   "cell_type": "code",
   "execution_count": 1,
   "metadata": {},
   "outputs": [],
   "source": [
    "%run experiment_tools.ipynb"
   ]
  },
  {
   "cell_type": "code",
   "execution_count": 2,
   "metadata": {},
   "outputs": [
    {
     "output_type": "stream",
     "name": "stderr",
     "text": [
      "/Applications/anaconda3/envs/qiskit-terra-dev/lib/python3.8/site-packages/ipykernel/ipkernel.py:287: DeprecationWarning: `should_run_async` will not call `transform_cell` automatically in the future. Please pass the result to `transformed_cell` argument and any exception that happen during thetransform in `preprocessing_exc_tuple` in IPython 7.17 and above.\n",
      "  and should_run_async(code)\n",
      "/Applications/anaconda3/envs/qiskit-terra-dev/lib/python3.8/site-packages/unittest2/compatibility.py:143: DeprecationWarning: Using or importing the ABCs from 'collections' instead of from 'collections.abc' is deprecated since Python 3.3, and in 3.9 it will stop working\n",
      "  class ChainMap(collections.MutableMapping):\n"
     ]
    }
   ],
   "source": [
    "import time\n",
    "import pandas as pd\n",
    "from qiskit import transpile, execute\n",
    "from qiskit.transpiler import CouplingMap\n",
    "from qiskit.transpiler.passes import CSPLayout\n",
    "from qiskit.test.mock.backends import FakeManhattan\n",
    "from qiskit.providers.aer import QasmSimulator\n"
   ]
  },
  {
   "source": [
    "## Parameters"
   ],
   "cell_type": "markdown",
   "metadata": {}
  },
  {
   "cell_type": "code",
   "execution_count": 3,
   "metadata": {},
   "outputs": [
    {
     "output_type": "stream",
     "name": "stderr",
     "text": [
      "/Applications/anaconda3/envs/qiskit-terra-dev/lib/python3.8/site-packages/ipykernel/ipkernel.py:287: DeprecationWarning: `should_run_async` will not call `transform_cell` automatically in the future. Please pass the result to `transformed_cell` argument and any exception that happen during thetransform in `preprocessing_exc_tuple` in IPython 7.17 and above.\n  and should_run_async(code)\n"
     ]
    }
   ],
   "source": [
    "exp_name = \"exp-graphstate-ring-csplayout\"\n",
    "exp_path = \"~/Datastore/qiskit-terra/\"\n",
    "exp_layout_pass = CSPLayout"
   ]
  },
  {
   "cell_type": "code",
   "execution_count": 4,
   "metadata": {},
   "outputs": [],
   "source": [
    "num_repititions = 1\n",
    "num_shots = 8192\n",
    "activate_noise = False\n",
    "num_qubits = 12"
   ]
  },
  {
   "cell_type": "code",
   "execution_count": 5,
   "metadata": {},
   "outputs": [],
   "source": [
    "# backend\n",
    "backend = FakeManhattan()\n",
    "\n",
    "# simulator\n",
    "simulator_options={\"method\": \"statevector\",\n",
    "                   \"precision\": \"double\"}\n",
    "if activate_noise:\n",
    "    simulator = QasmSimulator.from_backend(backend)\n",
    "else: \n",
    "    simulator = QasmSimulator()\n",
    "simulator.set_options(**simulator_options)"
   ]
  },
  {
   "source": [
    "## Experiment Loop"
   ],
   "cell_type": "markdown",
   "metadata": {}
  },
  {
   "cell_type": "code",
   "execution_count": 6,
   "metadata": {},
   "outputs": [],
   "source": [
    "df = pd.DataFrame(columns=[\"method\", \"time\", \"num_shots\", \"noise\", \"num_qubits\", \"counts\"])"
   ]
  },
  {
   "cell_type": "code",
   "execution_count": 8,
   "metadata": {
    "tags": []
   },
   "outputs": [
    {
     "output_type": "stream",
     "name": "stderr",
     "text": [
      "/Applications/anaconda3/envs/qiskit-terra-dev/lib/python3.8/site-packages/ipykernel/ipkernel.py:287: DeprecationWarning: `should_run_async` will not call `transform_cell` automatically in the future. Please pass the result to `transformed_cell` argument and any exception that happen during thetransform in `preprocessing_exc_tuple` in IPython 7.17 and above.\n  and should_run_async(code)\n"
     ]
    }
   ],
   "source": [
    "for rep in range(num_repititions):\n",
    "\n",
    "    # parameters\n",
    "    coupling_map = CouplingMap(backend.configuration().coupling_map)\n",
    "    backend_props = backend.properties()\n",
    "    circuit = graphstate_manhatten_ring(num_qubits)\n",
    "    \n",
    "    # time layout selector\n",
    "    time_start = time.time()\n",
    "    layout = generate_layout(circuit, exp_layout_pass, coupling_map=coupling_map)\n",
    "    time_stop = time.time()\n",
    "    time_delta = time_stop - time_start\n",
    "\n",
    "    # run transpile\n",
    "    circuit_t = transpile(circuit, backend, initial_layout=layout, optimization_level=0)\n",
    "\n",
    "    # execute and get results\n",
    "    job = execute(circuit_t, simulator, shots=num_shots)\n",
    "    counts = job.result().get_counts()\n",
    "\n",
    "    df.loc[len(df)] = [exp_layout_pass(None).name(), time_delta, num_shots, activate_noise, num_qubits, counts]"
   ]
  },
  {
   "cell_type": "code",
   "execution_count": 10,
   "metadata": {},
   "outputs": [
    {
     "output_type": "stream",
     "name": "stderr",
     "text": [
      "/Applications/anaconda3/envs/qiskit-terra-dev/lib/python3.8/site-packages/ipykernel/ipkernel.py:287: DeprecationWarning: `should_run_async` will not call `transform_cell` automatically in the future. Please pass the result to `transformed_cell` argument and any exception that happen during thetransform in `preprocessing_exc_tuple` in IPython 7.17 and above.\n  and should_run_async(code)\n"
     ]
    }
   ],
   "source": [
    "df.to_parquet(exp_path + exp_name)"
   ]
  },
  {
   "cell_type": "code",
   "execution_count": null,
   "metadata": {},
   "outputs": [],
   "source": []
  }
 ]
}