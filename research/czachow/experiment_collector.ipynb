{
 "metadata": {
  "language_info": {
   "codemirror_mode": {
    "name": "ipython",
    "version": 3
   },
   "file_extension": ".py",
   "mimetype": "text/x-python",
   "name": "python",
   "nbconvert_exporter": "python",
   "pygments_lexer": "ipython3",
   "version": "3.8.5-final"
  },
  "orig_nbformat": 2,
  "kernelspec": {
   "name": "python3",
   "display_name": "Python 3",
   "language": "python"
  }
 },
 "nbformat": 4,
 "nbformat_minor": 2,
 "cells": [
  {
   "source": [
    "# Collect the Experiments\n",
    "\n",
    "- collect the information from the different files"
   ],
   "cell_type": "markdown",
   "metadata": {}
  },
  {
   "cell_type": "code",
   "execution_count": 1,
   "metadata": {},
   "outputs": [],
   "source": [
    "%run experiment_tools.ipynb"
   ]
  },
  {
   "cell_type": "code",
   "execution_count": 17,
   "metadata": {},
   "outputs": [
    {
     "output_type": "stream",
     "name": "stderr",
     "text": [
      "/Applications/anaconda3/envs/qiskit-terra-dev/lib/python3.8/site-packages/ipykernel/ipkernel.py:287: DeprecationWarning: `should_run_async` will not call `transform_cell` automatically in the future. Please pass the result to `transformed_cell` argument and any exception that happen during thetransform in `preprocessing_exc_tuple` in IPython 7.17 and above.\n  and should_run_async(code)\n"
     ]
    }
   ],
   "source": [
    "import pandas as pd\n",
    "import numpy as np"
   ]
  },
  {
   "cell_type": "code",
   "execution_count": 3,
   "metadata": {},
   "outputs": [
    {
     "output_type": "stream",
     "name": "stderr",
     "text": [
      "/Applications/anaconda3/envs/qiskit-terra-dev/lib/python3.8/site-packages/ipykernel/ipkernel.py:287: DeprecationWarning: `should_run_async` will not call `transform_cell` automatically in the future. Please pass the result to `transformed_cell` argument and any exception that happen during thetransform in `preprocessing_exc_tuple` in IPython 7.17 and above.\n  and should_run_async(code)\n"
     ]
    }
   ],
   "source": [
    "exp_path = \"~/Datastore/qiskit-terra/\""
   ]
  },
  {
   "cell_type": "code",
   "execution_count": 7,
   "metadata": {},
   "outputs": [],
   "source": [
    "in_df_filenames = [\"exp-graphstate-ring-csplayout\"]\n",
    "in_df_list = [pd.read_parquet(exp_path + in_df_file) for in_df_file in in_df_filenames]"
   ]
  },
  {
   "cell_type": "code",
   "execution_count": 8,
   "metadata": {},
   "outputs": [
    {
     "output_type": "stream",
     "name": "stderr",
     "text": [
      "/Applications/anaconda3/envs/qiskit-terra-dev/lib/python3.8/site-packages/ipykernel/ipkernel.py:287: DeprecationWarning: `should_run_async` will not call `transform_cell` automatically in the future. Please pass the result to `transformed_cell` argument and any exception that happen during thetransform in `preprocessing_exc_tuple` in IPython 7.17 and above.\n  and should_run_async(code)\n"
     ]
    }
   ],
   "source": [
    "out_df_filename = \"exp-graphstate-ring\"\n",
    "out_df = pd.DataFrame(columns=[\"method\", \"time\", \"num_shots\", \"noise\", \"num_qubits\", \"state\", \"count\", \"rel_count\"])"
   ]
  },
  {
   "cell_type": "code",
   "execution_count": 18,
   "metadata": {},
   "outputs": [],
   "source": [
    "for in_df in in_df_list:\n",
    "    for index, row in in_df.iterrows():\n",
    "        gen_res = [row[\"method\"],\n",
    "                   row[\"time\"],\n",
    "                   row[\"num_shots\"],\n",
    "                   row[\"noise\"],\n",
    "                   row[\"num_qubits\"]]\n",
    "        state_counts_dict = row[\"counts\"]\n",
    "        for state, count in state_counts_dict.items():\n",
    "            rel_count = np.round(float(count) / row[\"num_shots\"], decimals=8)\n",
    "            out_df.loc[len(out_df)] = gen_res + [state, count, rel_count]"
   ]
  },
  {
   "cell_type": "code",
   "execution_count": 19,
   "metadata": {},
   "outputs": [],
   "source": [
    "out_df.to_parquet(exp_path + out_df_filename)"
   ]
  },
  {
   "cell_type": "code",
   "execution_count": 20,
   "metadata": {},
   "outputs": [
    {
     "output_type": "stream",
     "name": "stderr",
     "text": [
      "/Applications/anaconda3/envs/qiskit-terra-dev/lib/python3.8/site-packages/ipykernel/ipkernel.py:287: DeprecationWarning: `should_run_async` will not call `transform_cell` automatically in the future. Please pass the result to `transformed_cell` argument and any exception that happen during thetransform in `preprocessing_exc_tuple` in IPython 7.17 and above.\n  and should_run_async(code)\n"
     ]
    },
    {
     "output_type": "execute_result",
     "data": {
      "text/plain": [
       "         method      time num_shots  noise num_qubits         state count  \\\n",
       "0     CSPLayout  0.004433      8192  False         12  000000000000     2   \n",
       "1     CSPLayout  0.004433      8192  False         12  000000000001     2   \n",
       "2     CSPLayout  0.004433      8192  False         12  000000000010     4   \n",
       "3     CSPLayout  0.004433      8192  False         12  000000000100     5   \n",
       "4     CSPLayout  0.004433      8192  False         12  000000000101     3   \n",
       "...         ...       ...       ...    ...        ...           ...   ...   \n",
       "3573  CSPLayout  0.004433      8192  False         12  111111111011     3   \n",
       "3574  CSPLayout  0.004433      8192  False         12  111111111100     1   \n",
       "3575  CSPLayout  0.004433      8192  False         12  111111111101     7   \n",
       "3576  CSPLayout  0.004433      8192  False         12  111111111110     5   \n",
       "3577  CSPLayout  0.004433      8192  False         12  111111111111     1   \n",
       "\n",
       "      rel_count  \n",
       "0      0.000244  \n",
       "1      0.000244  \n",
       "2      0.000488  \n",
       "3      0.000610  \n",
       "4      0.000366  \n",
       "...         ...  \n",
       "3573   0.000366  \n",
       "3574   0.000122  \n",
       "3575   0.000854  \n",
       "3576   0.000610  \n",
       "3577   0.000122  \n",
       "\n",
       "[3578 rows x 8 columns]"
      ],
      "text/html": "<div>\n<style scoped>\n    .dataframe tbody tr th:only-of-type {\n        vertical-align: middle;\n    }\n\n    .dataframe tbody tr th {\n        vertical-align: top;\n    }\n\n    .dataframe thead th {\n        text-align: right;\n    }\n</style>\n<table border=\"1\" class=\"dataframe\">\n  <thead>\n    <tr style=\"text-align: right;\">\n      <th></th>\n      <th>method</th>\n      <th>time</th>\n      <th>num_shots</th>\n      <th>noise</th>\n      <th>num_qubits</th>\n      <th>state</th>\n      <th>count</th>\n      <th>rel_count</th>\n    </tr>\n  </thead>\n  <tbody>\n    <tr>\n      <th>0</th>\n      <td>CSPLayout</td>\n      <td>0.004433</td>\n      <td>8192</td>\n      <td>False</td>\n      <td>12</td>\n      <td>000000000000</td>\n      <td>2</td>\n      <td>0.000244</td>\n    </tr>\n    <tr>\n      <th>1</th>\n      <td>CSPLayout</td>\n      <td>0.004433</td>\n      <td>8192</td>\n      <td>False</td>\n      <td>12</td>\n      <td>000000000001</td>\n      <td>2</td>\n      <td>0.000244</td>\n    </tr>\n    <tr>\n      <th>2</th>\n      <td>CSPLayout</td>\n      <td>0.004433</td>\n      <td>8192</td>\n      <td>False</td>\n      <td>12</td>\n      <td>000000000010</td>\n      <td>4</td>\n      <td>0.000488</td>\n    </tr>\n    <tr>\n      <th>3</th>\n      <td>CSPLayout</td>\n      <td>0.004433</td>\n      <td>8192</td>\n      <td>False</td>\n      <td>12</td>\n      <td>000000000100</td>\n      <td>5</td>\n      <td>0.000610</td>\n    </tr>\n    <tr>\n      <th>4</th>\n      <td>CSPLayout</td>\n      <td>0.004433</td>\n      <td>8192</td>\n      <td>False</td>\n      <td>12</td>\n      <td>000000000101</td>\n      <td>3</td>\n      <td>0.000366</td>\n    </tr>\n    <tr>\n      <th>...</th>\n      <td>...</td>\n      <td>...</td>\n      <td>...</td>\n      <td>...</td>\n      <td>...</td>\n      <td>...</td>\n      <td>...</td>\n      <td>...</td>\n    </tr>\n    <tr>\n      <th>3573</th>\n      <td>CSPLayout</td>\n      <td>0.004433</td>\n      <td>8192</td>\n      <td>False</td>\n      <td>12</td>\n      <td>111111111011</td>\n      <td>3</td>\n      <td>0.000366</td>\n    </tr>\n    <tr>\n      <th>3574</th>\n      <td>CSPLayout</td>\n      <td>0.004433</td>\n      <td>8192</td>\n      <td>False</td>\n      <td>12</td>\n      <td>111111111100</td>\n      <td>1</td>\n      <td>0.000122</td>\n    </tr>\n    <tr>\n      <th>3575</th>\n      <td>CSPLayout</td>\n      <td>0.004433</td>\n      <td>8192</td>\n      <td>False</td>\n      <td>12</td>\n      <td>111111111101</td>\n      <td>7</td>\n      <td>0.000854</td>\n    </tr>\n    <tr>\n      <th>3576</th>\n      <td>CSPLayout</td>\n      <td>0.004433</td>\n      <td>8192</td>\n      <td>False</td>\n      <td>12</td>\n      <td>111111111110</td>\n      <td>5</td>\n      <td>0.000610</td>\n    </tr>\n    <tr>\n      <th>3577</th>\n      <td>CSPLayout</td>\n      <td>0.004433</td>\n      <td>8192</td>\n      <td>False</td>\n      <td>12</td>\n      <td>111111111111</td>\n      <td>1</td>\n      <td>0.000122</td>\n    </tr>\n  </tbody>\n</table>\n<p>3578 rows × 8 columns</p>\n</div>"
     },
     "metadata": {},
     "execution_count": 20
    }
   ],
   "source": [
    "out_df"
   ]
  },
  {
   "cell_type": "code",
   "execution_count": null,
   "metadata": {},
   "outputs": [],
   "source": []
  }
 ]
}