{
 "metadata": {
  "language_info": {
   "codemirror_mode": {
    "name": "ipython",
    "version": 3
   },
   "file_extension": ".py",
   "mimetype": "text/x-python",
   "name": "python",
   "nbconvert_exporter": "python",
   "pygments_lexer": "ipython3",
   "version": "3.8.5-final"
  },
  "orig_nbformat": 2,
  "kernelspec": {
   "name": "python3",
   "display_name": "Python 3",
   "language": "python"
  }
 },
 "nbformat": 4,
 "nbformat_minor": 2,
 "cells": [
  {
   "source": [
    "# Tools for the Experiments"
   ],
   "cell_type": "markdown",
   "metadata": {}
  },
  {
   "cell_type": "code",
   "execution_count": 1,
   "metadata": {},
   "outputs": [],
   "source": [
    "import numpy\n",
    "import math\n",
    "import qiskit"
   ]
  },
  {
   "cell_type": "code",
   "execution_count": 17,
   "metadata": {},
   "outputs": [],
   "source": [
    "def graphstate_manhatten_ring(ring_size=12):\n",
    "    def ring_map(size):\n",
    "        for j in range(size):\n",
    "            yield [j, (j+1)%ring_size]\n",
    "            yield [(j+1)%ring_size, j]\n",
    "\n",
    "    coupling_map = list(ring_map(ring_size))\n",
    "\n",
    "    rows, cols = zip(*coupling_map)\n",
    "\n",
    "    matrix = numpy.zeros((ring_size, ring_size))\n",
    "    matrix[rows, cols] = 1\n",
    "\n",
    "    qc = qiskit.circuit.library.GraphState(matrix)\n",
    "    qc.measure_all()\n",
    "\n",
    "    return qc"
   ]
  },
  {
   "cell_type": "code",
   "execution_count": null,
   "metadata": {},
   "outputs": [],
   "source": [
    "def generate_layout(circuit, layout_selector, **kwargs):\n",
    "    pass_ = layout_selector(**kwargs)\n",
    "    property_set = {}\n",
    "    pass_(circuit, property_set)\n",
    "    return property_set['layout']"
   ]
  },
  {
   "cell_type": "code",
   "execution_count": null,
   "metadata": {},
   "outputs": [],
   "source": [
    "def hellinger_distance(p, q):\n",
    "    \"\"\"Hellinger distance between two discrete distributions.\"\"\"\n",
    "    list_of_squares = []\n",
    "    for p_i, q_i in zip(p, q):\n",
    "\n",
    "        # caluclate the square of the difference of ith distr elements\n",
    "        s = (math.sqrt(p_i) - math.sqrt(q_i)) ** 2\n",
    "        \n",
    "        # append \n",
    "        list_of_squares.append(s)\n",
    "    \n",
    "    # calculate sum of squares\n",
    "    sosq = sum(list_of_squares)    \n",
    "    \n",
    "    return math.sqrt(sosq / 2)"
   ]
  },
  {
   "cell_type": "code",
   "execution_count": null,
   "metadata": {},
   "outputs": [],
   "source": [
    "def total_variational_distance(p, q):\n",
    "    \"\"\"total variation distance\"\"\"\n",
    "    list_of_diffs = []\n",
    "    for p_i, q_i in zip(p, q):\n",
    "        list_of_diffs.append(abs(p_i-q_i))\n",
    "    return sum(list_of_diffs)/2"
   ]
  }
 ]
}