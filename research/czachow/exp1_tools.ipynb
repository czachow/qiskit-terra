{
 "metadata": {
  "language_info": {
   "codemirror_mode": {
    "name": "ipython",
    "version": 3
   },
   "file_extension": ".py",
   "mimetype": "text/x-python",
   "name": "python",
   "nbconvert_exporter": "python",
   "pygments_lexer": "ipython3",
   "version": "3.7.6-final"
  },
  "orig_nbformat": 2,
  "kernelspec": {
   "name": "python3",
   "display_name": "Python 3",
   "language": "python"
  }
 },
 "nbformat": 4,
 "nbformat_minor": 2,
 "cells": [
  {
   "source": [
    "# Tools for Experiment 1"
   ],
   "cell_type": "markdown",
   "metadata": {}
  },
  {
   "source": [
    "## Graphstate on Ring"
   ],
   "cell_type": "markdown",
   "metadata": {}
  },
  {
   "cell_type": "code",
   "execution_count": null,
   "metadata": {},
   "outputs": [],
   "source": [
    "from qiskit.circuit.library import GraphState"
   ]
  },
  {
   "cell_type": "code",
   "execution_count": null,
   "metadata": {},
   "outputs": [],
   "source": [
    "def graphstate_manhatten_ring(ring_size=12):\n",
    "    def ring_map(size):\n",
    "        for j in range(size):\n",
    "            yield [j, (j+1)%ring_size]\n",
    "            yield [(j+1)%ring_size, j]\n",
    "\n",
    "    coupling_map = list(ring_map(ring_size))\n",
    "\n",
    "    rows, cols = zip(*coupling_map)\n",
    "\n",
    "    matrix = numpy.zeros((ring_size, ring_size))\n",
    "    matrix[rows, cols] = 1\n",
    "\n",
    "    qc = GraphState(matrix)\n",
    "    qc.measure_all()\n",
    "\n",
    "    return qc"
   ]
  },
  {
   "source": [
    "## Evaluate"
   ],
   "cell_type": "markdown",
   "metadata": {}
  },
  {
   "cell_type": "code",
   "execution_count": null,
   "metadata": {},
   "outputs": [],
   "source": [
    "from qiskit import assemble\n",
    "from qiskit.transpiler import CouplingMap\n",
    "from qiskit.transpiler.passes import CSPLayout, CspRbsLayout, DenseLayout, \\\n",
    "                                     NoiseAdaptiveLayout, SabreLayout\n",
    "from qiskit.providers.aer import QasmSimulator\n",
    "from qiskit.providers.aer.noise import NoiseModel"
   ]
  },
  {
   "cell_type": "code",
   "execution_count": null,
   "metadata": {},
   "outputs": [],
   "source": [
    "def exp1_evaluate(circuit, layout_method, backend, ideal=True, shots=1, seed=None):\n",
    "    \"\"\"\n",
    "    layout_method:\n",
    "      - csplayout:\n",
    "    \"\"\"\n",
    "    coupling_map = CouplingMap(backend.configuration().coupling_map)\n",
    "    backend_properties = backend.properties()\n",
    "\n",
    "    if layout_method == 'csplayout':\n",
    "        layout = CSPLayout(coupling_map, seed=seed, call_limit=None, time_limit=None)\n",
    "    elif layout_method == 'csprbslayout':\n",
    "        layout = CspRbsLayout(coupling_map, seed=seed, call_limit=None, time_limit=None,\n",
    "                              solution_limit=20, iteration_limit=10, backend_properties=backend_properties)\n",
    "    elif layout_method == 'dense':\n",
    "        layout = DenseLayout(coupling_map, None if ideal else backend_properties)\n",
    "    elif layout_method == 'noise_adaptive':\n",
    "        layout = NoiseAdaptiveLayout(backend_properties)\n",
    "    elif layout_method == 'sabre':\n",
    "        layout = SabreLayout(coupling_map, max_iterations=1, seed=seed)\n",
    "    else:\n",
    "        raise Exception('layout_method unknown %s' % layout_method)\n",
    "\n",
    "    if ideal:\n",
    "        simulator = QasmSimulator(configuration=backend.configuration(),\n",
    "                                  method='stabilizer')\n",
    "    else:\n",
    "        noise_model = NoiseModel.from_backend(backend, thermal_relaxation=False)\n",
    "        simulator = QasmSimulator(configuration=backend.configuration(),\n",
    "                                  noise_model=noise_model,\n",
    "                                  method='stabilizer')\n",
    "\n",
    "    passmanager = custom_pass_manager(backend, layout, seed=seed)\n",
    "\n",
    "    times = {}\n",
    "    count_ops_after_map = {}\n",
    "\n",
    "    def callback(**kwargs):\n",
    "        times[kwargs['pass_'].__class__.__name__] = kwargs['time']\n",
    "        if kwargs['pass_'].__class__.__name__ == 'StochasticSwap':\n",
    "            count_ops_after_map.update(kwargs['dag'].count_ops())\n",
    "\n",
    "    transpiled = passmanager.run(circuit, callback=callback)\n",
    "    needed_swaps = 0 if passmanager.property_set['is_swap_mapped'] else count_ops_after_map['swap']\n",
    "\n",
    "    qobj = assemble(transpiled, backend, shots=shots, seed_simulator=seed)\n",
    "    result = simulator.run(qobj).result()\n",
    "    counts = result.get_counts()\n",
    "\n",
    "    return counts, times[layout.__class__.__name__], needed_swaps"
   ]
  },
  {
   "source": [
    "## Write to Dataframe and file"
   ],
   "cell_type": "markdown",
   "metadata": {}
  },
  {
   "cell_type": "code",
   "execution_count": null,
   "metadata": {},
   "outputs": [],
   "source": [
    "def write_to_dataframe(total_result):\n",
    "    columns = [\"seed\", \"state\", \"ideal_count\", \"noise_count\", \\\n",
    "               \"ideal_time\", \"noise_time\", \"ideal_swaps_needed\", \"noise_swaps_needed\"]\n",
    "    df = pd.DataFrame(columns=columns)\n",
    "    \n",
    "    ideal_counts = total_result[\"ideal_counts\"]\n",
    "    noise_counts = total_result[\"noise_counts\"]\n",
    "    states = set(ideal_counts.keys()) | set(noise_counts.keys())\n",
    "    for state in states:\n",
    "        df.loc[len(df)] = [total_result[\"seed\"], state, ideal_counts.get(state, 0), noise_counts.get(state, 0), \\\n",
    "                           total_result[\"ideal_time\"], total_result[\"noise_time\"], total_result[\"ideal_swaps_needed\"], \\\n",
    "                           total_result[\"noise_swaps_needed\"]]\n",
    "\n",
    "    return df"
   ]
  },
  {
   "source": [
    "## Custom Pass Manager"
   ],
   "cell_type": "markdown",
   "metadata": {}
  },
  {
   "cell_type": "code",
   "execution_count": null,
   "metadata": {},
   "outputs": [],
   "source": [
    "from qiskit.transpiler import PassManager, CouplingMap\n",
    "from qiskit.transpiler.passes import BasisTranslator\n",
    "from qiskit.transpiler.passes import UnrollCustomDefinitions\n",
    "from qiskit.transpiler.passes import Unroll3qOrMore\n",
    "from qiskit.transpiler.passes import CheckMap\n",
    "from qiskit.transpiler.passes import BarrierBeforeFinalMeasurements\n",
    "from qiskit.transpiler.passes import StochasticSwap\n",
    "from qiskit.transpiler.passes import FullAncillaAllocation\n",
    "from qiskit.transpiler.passes import EnlargeWithAncilla\n",
    "from qiskit.transpiler.passes import ApplyLayout\n",
    "from qiskit.circuit.equivalence_library import SessionEquivalenceLibrary as sel"
   ]
  },
  {
   "cell_type": "code",
   "execution_count": null,
   "metadata": {},
   "outputs": [],
   "source": [
    "def custom_pass_manager(backend, layout_instance, seed=None):\n",
    "    basis_gates = backend.configuration().basis_gates\n",
    "    coupling_map = CouplingMap(backend.configuration().coupling_map)\n",
    "\n",
    "    def _swap_condition(property_set):\n",
    "        return not property_set['is_swap_mapped']\n",
    "\n",
    "    _embed = [FullAncillaAllocation(coupling_map), EnlargeWithAncilla(), ApplyLayout()]\n",
    "    _unroll3q = Unroll3qOrMore()\n",
    "    _swap_check = CheckMap(coupling_map)\n",
    "    _swap = [BarrierBeforeFinalMeasurements()]\n",
    "    _swap += [StochasticSwap(coupling_map, trials=20, seed=seed)]\n",
    "    _unroll = [UnrollCustomDefinitions(sel, basis_gates), BasisTranslator(sel, basis_gates)]\n",
    "\n",
    "    pm = PassManager()\n",
    "    pm.append(layout_instance)\n",
    "    pm.append(_embed)\n",
    "    pm.append(_unroll3q)\n",
    "    pm.append(_swap_check)\n",
    "    pm.append(_swap, condition=_swap_condition)\n",
    "    pm.append(_unroll)\n",
    "    return pm"
   ]
  }
 ]
}