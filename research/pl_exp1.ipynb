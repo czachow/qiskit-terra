{
 "metadata": {
  "language_info": {
   "codemirror_mode": {
    "name": "ipython",
    "version": 3
   },
   "file_extension": ".py",
   "mimetype": "text/x-python",
   "name": "python",
   "nbconvert_exporter": "python",
   "pygments_lexer": "ipython3",
   "version": "3.8.5"
  },
  "orig_nbformat": 2,
  "kernelspec": {
   "name": "python3",
   "display_name": "Python 3.8.5 64-bit ('qiskit-terra-dev': conda)"
  },
  "interpreter": {
   "hash": "9bdb76aafba5af710c8fd8f36381e716ca03ed40979c8942f38e6948f2ed191b"
  }
 },
 "nbformat": 4,
 "nbformat_minor": 2,
 "cells": [
  {
   "source": [
    "# Runner for Experiment 1\n"
   ],
   "cell_type": "markdown",
   "metadata": {}
  },
  {
   "source": [
    "## Experiment"
   ],
   "cell_type": "markdown",
   "metadata": {}
  },
  {
   "cell_type": "code",
   "execution_count": 1,
   "metadata": {},
   "outputs": [],
   "source": [
    "from qiskit import assemble\n",
    "from qiskit.transpiler import CouplingMap\n",
    "from qiskit.transpiler.passes import DenseLayout, ExVF2Layout, \\\n",
    "                                     NoiseAdaptiveLayout, SabreLayout\n",
    "\n",
    "from exp.custom_passmanager import custom_pass_manager"
   ]
  },
  {
   "cell_type": "code",
   "execution_count": 6,
   "metadata": {},
   "outputs": [
    {
     "output_type": "stream",
     "name": "stderr",
     "text": [
      "/Applications/anaconda3/envs/qiskit-terra-dev/lib/python3.8/site-packages/ipykernel/ipkernel.py:287: DeprecationWarning: `should_run_async` will not call `transform_cell` automatically in the future. Please pass the result to `transformed_cell` argument and any exception that happen during thetransform in `preprocessing_exc_tuple` in IPython 7.17 and above.\n  and should_run_async(code)\n"
     ]
    }
   ],
   "source": [
    "def exp1_evaluate(circuit, layout_method, backend, ideal=True, seed=None, layout_reps=100):\n",
    " \n",
    "    coupling_map = CouplingMap(backend.configuration().coupling_map)\n",
    "    backend_properties = backend.properties()\n",
    "\n",
    "    if layout_method == 'exvf2':\n",
    "        layout = ExVF2Layout(coupling_map)\n",
    "    elif layout_method == 'dense':\n",
    "        layout = DenseLayout(coupling_map, None if ideal else backend_properties)\n",
    "    elif layout_method == 'noise_adaptive':\n",
    "        layout = NoiseAdaptiveLayout(backend_properties)\n",
    "    elif layout_method == 'sabre':\n",
    "        layout = SabreLayout(coupling_map, max_iterations=1, seed=seed)\n",
    "    else:\n",
    "        raise Exception('layout_method unknown %s' % layout_method)\n",
    "\n",
    "    passmanager = custom_pass_manager(backend, layout, layout_reps=layout_reps)\n",
    "\n",
    "    times = {}\n",
    "    count_ops_after_map = {}\n",
    "\n",
    "    def callback(**kwargs):\n",
    "        times[kwargs['pass_'].name()] = times.get(kwargs['pass_'].name(), 0) + kwargs['time']\n",
    "        if kwargs['pass_'].name() == 'StochasticSwap':\n",
    "            count_ops_after_map.update(kwargs['dag'].count_ops())\n",
    "    \n",
    "    transpiled = passmanager.run(circuit, callback=callback)\n",
    "\n",
    "    needed_swaps = 0 if passmanager.property_set['is_swap_mapped'] else count_ops_after_map['swap']\n",
    "    time = times[layout.name()] / layout_reps\n",
    "\n",
    "    return time, needed_swaps"
   ]
  },
  {
   "source": [
    "## Runner"
   ],
   "cell_type": "markdown",
   "metadata": {}
  },
  {
   "cell_type": "code",
   "execution_count": 7,
   "metadata": {},
   "outputs": [],
   "source": [
    "import pandas as pd\n",
    "from qiskit.test.mock.backends import FakeManhattan\n",
    "\n",
    "from exp.circuit_generators import graphstate_manhatten_ring\n",
    "from exp.write_to_df import write_to_dataframe"
   ]
  },
  {
   "cell_type": "code",
   "execution_count": 8,
   "metadata": {},
   "outputs": [],
   "source": [
    "def exp1_run(layout_method, exp_path, num_samples=100, num_qubits=12, num_shots=8192):\n",
    "    backend = FakeManhattan()\n",
    "    circuit = graphstate_manhatten_ring(num_qubits)\n",
    "\n",
    "    df = pd.DataFrame(columns=[\"seed\", \"time\", \"swaps_needed\"])\n",
    "    for num_index in range(num_samples):\n",
    "        seed = num_index\n",
    "        time, swaps_needed = exp1_evaluate(\n",
    "            circuit, layout_method, backend=backend, ideal=True, seed=seed)\n",
    "        total_result = {'seed': seed,\n",
    "                        'time': time,\n",
    "                        'swaps_needed': swaps_needed}\n",
    "\n",
    "        df = df.append(total_result, ignore_index=True)\n",
    "\n",
    "    print(df)"
   ]
  },
  {
   "source": [
    "## Execution"
   ],
   "cell_type": "markdown",
   "metadata": {}
  },
  {
   "cell_type": "code",
   "execution_count": 9,
   "metadata": {
    "tags": []
   },
   "outputs": [
    {
     "output_type": "stream",
     "name": "stdout",
     "text": [
      "    seed      time  swaps_needed\n",
      "0    0.0  0.000004           0.0\n",
      "1    1.0  0.000004           0.0\n",
      "2    2.0  0.000003           0.0\n",
      "3    3.0  0.000003           0.0\n",
      "4    4.0  0.000003           0.0\n",
      "..   ...       ...           ...\n",
      "95  95.0  0.000002           0.0\n",
      "96  96.0  0.000002           0.0\n",
      "97  97.0  0.000002           0.0\n",
      "98  98.0  0.000002           0.0\n",
      "99  99.0  0.000003           0.0\n",
      "\n",
      "[100 rows x 3 columns]\n",
      "    seed      time  swaps_needed\n",
      "0    0.0  0.000156           7.0\n",
      "1    1.0  0.000151           7.0\n",
      "2    2.0  0.000161           7.0\n",
      "3    3.0  0.000144           7.0\n",
      "4    4.0  0.000141           7.0\n",
      "..   ...       ...           ...\n",
      "95  95.0  0.000169           7.0\n",
      "96  96.0  0.000172           7.0\n",
      "97  97.0  0.000174           7.0\n",
      "98  98.0  0.000182           7.0\n",
      "99  99.0  0.000182           7.0\n",
      "\n",
      "[100 rows x 3 columns]\n",
      "    seed      time  swaps_needed\n",
      "0    0.0  0.000161          11.0\n",
      "1    1.0  0.000163          11.0\n",
      "2    2.0  0.000159          11.0\n",
      "3    3.0  0.000181          11.0\n",
      "4    4.0  0.000171          11.0\n",
      "..   ...       ...           ...\n",
      "95  95.0  0.000142          11.0\n",
      "96  96.0  0.000190          11.0\n",
      "97  97.0  0.000160          11.0\n",
      "98  98.0  0.000136          11.0\n",
      "99  99.0  0.000135          11.0\n",
      "\n",
      "[100 rows x 3 columns]\n",
      "    seed      time  swaps_needed\n",
      "0    0.0  0.000409          36.0\n",
      "1    1.0  0.000377          18.0\n",
      "2    2.0  0.000327          31.0\n",
      "3    3.0  0.000386          27.0\n",
      "4    4.0  0.000343          52.0\n",
      "..   ...       ...           ...\n",
      "95  95.0  0.000385          38.0\n",
      "96  96.0  0.000401          14.0\n",
      "97  97.0  0.000451          45.0\n",
      "98  98.0  0.000319          30.0\n",
      "99  99.0  0.000267          21.0\n",
      "\n",
      "[100 rows x 3 columns]\n"
     ]
    }
   ],
   "source": [
    "layout_methods = [\n",
    "    'exvf2',\n",
    "    'dense',\n",
    "    'noise_adaptive',\n",
    "    'sabre',\n",
    "]\n",
    "exp_path = \"./data/\"\n",
    "num_samples = 100\n",
    "for method in layout_methods:\n",
    "    exp1_run(method, exp_path, num_samples=num_samples)"
   ]
  },
  {
   "cell_type": "code",
   "execution_count": null,
   "metadata": {},
   "outputs": [],
   "source": []
  }
 ]
}