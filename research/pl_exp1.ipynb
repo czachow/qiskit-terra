{
 "metadata": {
  "language_info": {
   "codemirror_mode": {
    "name": "ipython",
    "version": 3
   },
   "file_extension": ".py",
   "mimetype": "text/x-python",
   "name": "python",
   "nbconvert_exporter": "python",
   "pygments_lexer": "ipython3",
   "version": "3.8.5"
  },
  "orig_nbformat": 2,
  "kernelspec": {
   "name": "python3",
   "display_name": "Python 3.8.5 64-bit ('qiskit-terra-dev': conda)"
  },
  "interpreter": {
   "hash": "9bdb76aafba5af710c8fd8f36381e716ca03ed40979c8942f38e6948f2ed191b"
  }
 },
 "nbformat": 4,
 "nbformat_minor": 2,
 "cells": [
  {
   "source": [
    "# Runner for Experiment 1\n"
   ],
   "cell_type": "markdown",
   "metadata": {}
  },
  {
   "source": [
    "## Experiment"
   ],
   "cell_type": "markdown",
   "metadata": {}
  },
  {
   "cell_type": "code",
   "execution_count": 1,
   "metadata": {},
   "outputs": [
    {
     "output_type": "stream",
     "name": "stderr",
     "text": [
      "/Applications/anaconda3/envs/qiskit-terra-dev/lib/python3.8/site-packages/unittest2/compatibility.py:143: DeprecationWarning: Using or importing the ABCs from 'collections' instead of from 'collections.abc' is deprecated since Python 3.3, and in 3.9 it will stop working\n  class ChainMap(collections.MutableMapping):\n"
     ]
    }
   ],
   "source": [
    "import pandas as pd\n",
    "import matplotlib.pylab as o\n",
    "\n",
    "from qiskit import assemble\n",
    "from qiskit.transpiler import CouplingMap\n",
    "from qiskit.test.mock.backends import FakeManhattan\n",
    "from qiskit.transpiler.passes import LookaheadSwap, StochasticSwap, SabreSwap\n",
    "from qiskit.transpiler.passes import DenseLayout, ExVF2Layout, \\\n",
    "                                     NoiseAdaptiveLayout, SabreLayout\n",
    "\n",
    "from exp.custom_passmanager import custom_pass_manager\n",
    "from exp.circuit_generators import graphstate_complete, graphstate_ring, graphstate_ring_corners"
   ]
  },
  {
   "cell_type": "code",
   "execution_count": 2,
   "metadata": {},
   "outputs": [
    {
     "output_type": "stream",
     "name": "stderr",
     "text": [
      "/Applications/anaconda3/envs/qiskit-terra-dev/lib/python3.8/site-packages/ipykernel/ipkernel.py:287: DeprecationWarning: `should_run_async` will not call `transform_cell` automatically in the future. Please pass the result to `transformed_cell` argument and any exception that happen during thetransform in `preprocessing_exc_tuple` in IPython 7.17 and above.\n  and should_run_async(code)\n"
     ]
    }
   ],
   "source": [
    "def exp1(circuit, layouter, swapper, backend):\n",
    "    passmanager = custom_pass_manager(backend, layouter, swapper)\n",
    "\n",
    "    times = {}\n",
    "    count_ops_after_map = {}\n",
    "\n",
    "    def callback(**kwargs):\n",
    "        times[kwargs['pass_'].name()] = times.get(kwargs['pass_'].name(), 0) + kwargs['time']\n",
    "        if 'Swap' in kwargs['pass_'].name():\n",
    "            count_ops_after_map.update(kwargs['dag'].count_ops())\n",
    "            \n",
    "    \n",
    "    transpiled = passmanager.run(circuit, callback=callback)\n",
    "\n",
    "    needed_swaps = 0 if passmanager.property_set['is_swap_mapped'] else count_ops_after_map['swap']\n",
    "    time = times[layouter.name()] / layouter_reps\n",
    "\n",
    "    return time, needed_swaps"
   ]
  },
  {
   "source": [
    "## Execution"
   ],
   "cell_type": "markdown",
   "metadata": {}
  },
  {
   "cell_type": "code",
   "execution_count": 3,
   "metadata": {
    "tags": []
   },
   "outputs": [],
   "source": [
    "layouter_reps = 4\n",
    "backend = FakeManhattan()\n",
    "backend_properties = backend.properties()\n",
    "coupling_map = CouplingMap(backend.configuration().coupling_map)\n",
    "\n",
    "#swapper = StochasticSwap(coupling_map, trials=20, seed=0)\n",
    "swapper = SabreSwap(coupling_map, heuristic=\"decay\", seed=0)\n",
    "\n",
    "layout_type_dict = {\n",
    "    'exvf2': ExVF2Layout(coupling_map), \n",
    "    'dense': DenseLayout(coupling_map, backend_properties), \n",
    "    #'noise_adaptive': NoiseAdaptiveLayout(backend_properties),\n",
    "    'sabre': SabreLayout(coupling_map, max_iterations=1)\n",
    "}\n",
    "circuit_type_dict = {\n",
    "    'full': graphstate_complete(65),\n",
    "    '12q_ring': graphstate_ring(12),\n",
    "    '12q_corner': graphstate_ring_corners(12),\n",
    "    '12q_full': graphstate_complete(12)\n",
    "}"
   ]
  },
  {
   "cell_type": "code",
   "execution_count": 4,
   "metadata": {},
   "outputs": [],
   "source": [
    "df = pd.DataFrame(columns=[\"layouter\", \"circuit\", \"time\", \"swaps\"])\n",
    "\n",
    "# loop over layouters\n",
    "for layouter_name, layouter in layout_type_dict.items():\n",
    "\n",
    "    # loop over circuits\n",
    "    for circuit_name, circuit in circuit_type_dict.items():\n",
    "\n",
    "        total_time = 0\n",
    "        total_swaps = 0\n",
    "        for rep in range(layouter_reps):\n",
    "        \n",
    "            time, swaps = exp1(circuit, layouter, swapper, backend)\n",
    "            total_time += time\n",
    "            total_swaps += swaps\n",
    "\n",
    "        result = {'layouter': layouter_name,\n",
    "                  'circuit': circuit_name,\n",
    "                  'time': total_time / layouter_reps,\n",
    "                  'swaps': total_swaps / layouter_reps}\n",
    "\n",
    "        df = df.append(result, ignore_index=True)"
   ]
  },
  {
   "cell_type": "code",
   "execution_count": 5,
   "metadata": {},
   "outputs": [
    {
     "output_type": "stream",
     "name": "stdout",
     "text": [
      "   layouter     circuit       time   swaps\n0     exvf2        full   0.006085  3399.0\n1     exvf2    12q_ring   0.003150     0.0\n2     exvf2  12q_corner   0.003210    10.0\n3     exvf2    12q_full  22.278539   101.0\n4     dense        full   0.072942  3467.0\n5     dense    12q_ring   0.014103     4.0\n6     dense  12q_corner   0.015104    10.0\n7     dense    12q_full   0.014718   108.0\n8     sabre        full   4.042915  3494.0\n9     sabre    12q_ring   0.019074    35.0\n10    sabre  12q_corner   0.023354    16.0\n11    sabre    12q_full   0.062735    76.0\n"
     ]
    }
   ],
   "source": [
    "print(df)"
   ]
  },
  {
   "cell_type": "code",
   "execution_count": null,
   "metadata": {},
   "outputs": [],
   "source": []
  }
 ]
}