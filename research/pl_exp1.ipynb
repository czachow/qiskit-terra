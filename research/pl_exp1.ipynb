{
 "metadata": {
  "language_info": {
   "codemirror_mode": {
    "name": "ipython",
    "version": 3
   },
   "file_extension": ".py",
   "mimetype": "text/x-python",
   "name": "python",
   "nbconvert_exporter": "python",
   "pygments_lexer": "ipython3",
   "version": "3.8.5"
  },
  "orig_nbformat": 2,
  "kernelspec": {
   "name": "python3",
   "display_name": "Python 3.8.5 64-bit ('qiskit-terra-dev': conda)"
  },
  "interpreter": {
   "hash": "9bdb76aafba5af710c8fd8f36381e716ca03ed40979c8942f38e6948f2ed191b"
  }
 },
 "nbformat": 4,
 "nbformat_minor": 2,
 "cells": [
  {
   "source": [
    "# Runner for Experiment 1\n"
   ],
   "cell_type": "markdown",
   "metadata": {}
  },
  {
   "source": [
    "## Experiment"
   ],
   "cell_type": "markdown",
   "metadata": {}
  },
  {
   "cell_type": "code",
   "execution_count": 13,
   "metadata": {},
   "outputs": [
    {
     "output_type": "stream",
     "name": "stderr",
     "text": [
      "/Applications/anaconda3/envs/qiskit-terra-dev/lib/python3.8/site-packages/ipykernel/ipkernel.py:287: DeprecationWarning: `should_run_async` will not call `transform_cell` automatically in the future. Please pass the result to `transformed_cell` argument and any exception that happen during thetransform in `preprocessing_exc_tuple` in IPython 7.17 and above.\n  and should_run_async(code)\n"
     ]
    }
   ],
   "source": [
    "import pandas as pd\n",
    "import matplotlib.pylab as o\n",
    "\n",
    "from qiskit import assemble\n",
    "from qiskit.transpiler import CouplingMap\n",
    "from qiskit.test.mock.backends import FakeManhattan\n",
    "from qiskit.transpiler.passes import LookaheadSwap, StochasticSwap, SabreSwap\n",
    "from qiskit.transpiler.passes import DenseLayout, ExVF2Layout, \\\n",
    "                                     NoiseAdaptiveLayout, SabreLayout\n",
    "\n",
    "from exp.custom_passmanager import custom_pass_manager\n",
    "from exp.circuit_generators import graphstate_complete, graphstate_manhattan_ring"
   ]
  },
  {
   "cell_type": "code",
   "execution_count": 14,
   "metadata": {},
   "outputs": [],
   "source": [
    "def exp1(circuit, layouter, swapper, backend, layouter_reps=100):\n",
    "    passmanager = custom_pass_manager(backend, layouter, swapper, layout_reps=layouter_reps)\n",
    "\n",
    "    times = {}\n",
    "    count_ops_after_map = {}\n",
    "\n",
    "    def callback(**kwargs):\n",
    "        times[kwargs['pass_'].name()] = times.get(kwargs['pass_'].name(), 0) + kwargs['time']\n",
    "        if 'Swap' in kwargs['pass_'].name():\n",
    "            count_ops_after_map.update(kwargs['dag'].count_ops())\n",
    "            \n",
    "    \n",
    "    transpiled = passmanager.run(circuit, callback=callback)\n",
    "\n",
    "    needed_swaps = 0 if passmanager.property_set['is_swap_mapped'] else count_ops_after_map['swap']\n",
    "    time = times[layouter.name()] / layouter_reps\n",
    "\n",
    "    return time, needed_swaps"
   ]
  },
  {
   "source": [
    "## Execution"
   ],
   "cell_type": "markdown",
   "metadata": {}
  },
  {
   "cell_type": "code",
   "execution_count": 17,
   "metadata": {
    "tags": []
   },
   "outputs": [],
   "source": [
    "layouter_reps = 100\n",
    "backend = FakeManhattan()\n",
    "backend_properties = backend.properties()\n",
    "coupling_map = CouplingMap(backend.configuration().coupling_map)\n",
    "\n",
    "#swapper = StochasticSwap(coupling_map, trials=20, seed=0)\n",
    "swapper = SabreSwap(coupling_map, heuristic=\"decay\", seed=0)\n",
    "\n",
    "layout_type_dict = {\n",
    "    'exvf2': ExVF2Layout(coupling_map), \n",
    "    'dense': DenseLayout(coupling_map, backend_properties), \n",
    "    #'noise_adaptive': NoiseAdaptiveLayout(backend_properties),\n",
    "    'sabre': SabreLayout(coupling_map, max_iterations=1)\n",
    "}\n",
    "circuit_type_dict = {\n",
    "    'full': graphstate_complete(65),\n",
    "    '12q_ring': graphstate_manhattan_ring(12),\n",
    "    '12q_full': graphstate_complete(12)\n",
    "}"
   ]
  },
  {
   "cell_type": "code",
   "execution_count": 18,
   "metadata": {},
   "outputs": [],
   "source": [
    "df = pd.DataFrame(columns=[\"layouter\", \"circuit\", \"time\", \"swaps\"])\n",
    "\n",
    "# loop over layouters\n",
    "for layouter_name, layouter in layout_type_dict.items():\n",
    "\n",
    "    # loop over circuits\n",
    "    for circuit_name, circuit in circuit_type_dict.items():\n",
    "\n",
    "        time, swaps = exp1(circuit, layouter, swapper, backend, layouter_reps)\n",
    "        result = {'layouter': layouter_name,\n",
    "                  'circuit': circuit_name,\n",
    "                  'time': time,\n",
    "                  'swaps': swaps}\n",
    "        df = df.append(result, ignore_index=True)"
   ]
  },
  {
   "cell_type": "code",
   "execution_count": 19,
   "metadata": {},
   "outputs": [
    {
     "output_type": "stream",
     "name": "stdout",
     "text": [
      "  layouter   circuit      time swaps\n0    exvf2      full  0.000228  3399\n1    exvf2  12q_ring  0.000122     0\n2    exvf2  12q_full  0.821010   101\n3    dense      full  0.002918  3467\n4    dense  12q_ring  0.000641     4\n5    dense  12q_full  0.000641   108\n6    sabre      full  0.144383  2876\n7    sabre  12q_ring  0.000421    22\n8    sabre  12q_full  0.002315    70\n"
     ]
    }
   ],
   "source": [
    "print(df)"
   ]
  },
  {
   "cell_type": "code",
   "execution_count": null,
   "metadata": {},
   "outputs": [],
   "source": []
  }
 ]
}